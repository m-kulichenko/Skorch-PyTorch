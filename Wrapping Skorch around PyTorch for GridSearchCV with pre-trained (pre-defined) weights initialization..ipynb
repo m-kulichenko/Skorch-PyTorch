{
 "cells": [
  {
   "cell_type": "markdown",
   "metadata": {},
   "source": [
    "## Skorch is a scikit-learn compatible neural network library that wraps PyTorch. This allows performing manipulations with PyTorch modules as if they were usual scikit-learn estimators. In particular, I find it very useful to do a grid search for PyTorch models via Skorch. \n",
    "## In this notebook, I show how one can easily do a grid search for PyTorch model wrapped in Skorch with pre-trained weights initialization at each fit. \n",
    "### Although it is not recommended to use pre-defined weights initialization for general purposes, it might be useful for, e.g., exhaustive fine tuning.\n"
   ]
  },
  {
   "cell_type": "markdown",
   "metadata": {},
   "source": [
    "### First, let's import libraries and download the MNIST dataset,"
   ]
  },
  {
   "cell_type": "code",
   "execution_count": 83,
   "metadata": {},
   "outputs": [],
   "source": [
    "import torch\n",
    "import torch.nn as nn\n",
    "import torchvision\n",
    "import torchvision.transforms as transforms\n",
    "\n",
    "from sklearn.metrics import accuracy_score\n",
    "from sklearn.model_selection import GridSearchCV\n",
    "\n",
    "import skorch\n",
    "from skorch import NeuralNet\n",
    "from skorch import NeuralNetClassifier\n",
    "\n",
    "import pickle\n",
    "\n",
    "import numpy as np"
   ]
  },
  {
   "cell_type": "markdown",
   "metadata": {},
   "source": [
    "### The dataset is not that large so let's store it in memory."
   ]
  },
  {
   "cell_type": "code",
   "execution_count": 85,
   "metadata": {},
   "outputs": [
    {
     "name": "stdout",
     "output_type": "stream",
     "text": [
      "Device:  cuda\n"
     ]
    }
   ],
   "source": [
    "# Device configuration\n",
    "device = torch.device('cuda' if torch.cuda.is_available() else 'cpu')\n",
    "print('Device: ',device)\n",
    "\n",
    "\n",
    "# Download MNIST dataset to local drive. A new folder \"data\" will be created in the current directory to store data\n",
    "train_dataset = torchvision.datasets.MNIST(root='./data', \n",
    "                                           train=True, \n",
    "                                           transform=transforms.ToTensor(),  \n",
    "                                           download=True)\n",
    "\n",
    "test_dataset = torchvision.datasets.MNIST(root='./data', \n",
    "                                          train=False, \n",
    "                                          transform=transforms.ToTensor())\n",
    "\n",
    "train_loader = torch.utils.data.DataLoader(dataset=train_dataset, \n",
    "                                           batch_size=len(train_dataset), \n",
    "                                           shuffle=True)\n",
    "\n",
    "test_loader = torch.utils.data.DataLoader(dataset=test_dataset, \n",
    "                                          batch_size=len(test_dataset), \n",
    "                                          shuffle=False)\n",
    "\n",
    "# Train set\n",
    "for X, y in train_loader:\n",
    "    X_train = X\n",
    "    y_train = y\n",
    "\n",
    "# Test set\n",
    "for X, y in test_loader:\n",
    "    X_test = X\n",
    "    y_test = y"
   ]
  },
  {
   "cell_type": "markdown",
   "metadata": {},
   "source": [
    "### Let's build a core NN module with PyTorch\n",
    "#### Two hidden layers. ReLU activation in hidden layers and logsoftmax activation in output layer. Let's also use dropout."
   ]
  },
  {
   "cell_type": "code",
   "execution_count": 38,
   "metadata": {
    "colab": {},
    "colab_type": "code",
    "id": "xgQGKYQIlrFt"
   },
   "outputs": [],
   "source": [
    "class MyModule(nn.Module):\n",
    "\n",
    "    def __init__(self, input_size, hidden_size1, hidden_size2, num_classes, dropout):\n",
    "        super(MyModule, self).__init__()\n",
    "\n",
    "        self.fc1 = nn.Linear(input_size, hidden_size1) \n",
    "        self.relu =nn.ReLU()\n",
    "        self.fc2 = nn.Linear(hidden_size1, hidden_size2) \n",
    "        self.fc3 = nn.Linear(hidden_size2, num_classes)  \n",
    "        self.logsoftmax = nn.LogSoftmax(dim=-1)\n",
    "        \n",
    "        self.dropout = nn.Dropout(dropout)\n",
    "    \n",
    "    def forward(self, x):\n",
    "\n",
    "        x = x.view(-1, 784)\n",
    "        out = self.dropout(self.fc1(x))\n",
    "        out = self.relu(out)\n",
    "        out = self.dropout(self.fc2(out))\n",
    "        out = self.relu(out)\n",
    "        out = self.fc3(out)\n",
    "        out = self.logsoftmax(out)\n",
    "                        \n",
    "        return out"
   ]
  },
  {
   "cell_type": "markdown",
   "metadata": {},
   "source": [
    "### Here we inherit NeuralNetClassifier class from Skorch but with two modifications.\n",
    "#### 1) We slightly modify get_loss to add L1 regularization.\n",
    "#### 2) We modify initialize_module so we can use pre-trained initialization in GridSearchCV if needed.\n",
    "####    *reinit_from_pretrain*   indicates if the model should be initialized from a pre-trained one.\n",
    "####    *pretrained_nn*   contains a path to a pickle with the pre-trained model."
   ]
  },
  {
   "cell_type": "code",
   "execution_count": 97,
   "metadata": {},
   "outputs": [],
   "source": [
    "class RegularizedNet(NeuralNetClassifier):\n",
    "    \n",
    "    def __init__(self, *args, lambda1=0.01, reinit_from_pretrain=False, pretrained_nn=None, **kwargs):\n",
    "        '''\n",
    "        If reinit_from_pretrain = True, the model is initialized from a pretrained pickle.\n",
    "        pretrained_nn containt path to the pickle.\n",
    "        Otherwise, the model is randomly re-initialized at each fit.\n",
    "        '''\n",
    "        super().__init__(*args, **kwargs)\n",
    "        self.lambda1 = lambda1\n",
    "        self.reinit_from_pretrain = reinit_from_pretrain\n",
    "        self.pretrained_nn = pretrained_nn\n",
    "        \n",
    "    def get_loss(self, y_pred, y_true, X=None, training=False):\n",
    "        loss = super().get_loss(y_pred, y_true, X=X, training=training)\n",
    "        loss += self.lambda1 * sum([w.abs().sum() for w in self.module_.parameters()])\n",
    "        return loss\n",
    "    \n",
    "    def initialize_module(self):\n",
    "        \n",
    "        super().initialize_module()\n",
    "        \n",
    "        ##### initialization from pre-trained model\n",
    "        if self.reinit_from_pretrain:\n",
    "            self.module_.load_state_dict(torch.load(self.pretrained_nn))\n",
    "        return self"
   ]
  },
  {
   "cell_type": "markdown",
   "metadata": {},
   "source": [
    "#### Here we wrap Skorch around the PyTorch module."
   ]
  },
  {
   "cell_type": "code",
   "execution_count": 88,
   "metadata": {
    "colab": {},
    "colab_type": "code",
    "id": "xgQGKYQIlrFt"
   },
   "outputs": [],
   "source": [
    "##### Below I define collbacks for train accuracy printing and early stopping criteria.\n",
    "train_acc = skorch.callbacks.EpochScoring(scoring = accuracy_score,on_train=True, \n",
    "                         name='train_acc', lower_is_better=False)\n",
    "\n",
    "early_stop = skorch.callbacks.EarlyStopping(monitor='valid_acc', lower_is_better=False)\n",
    "\n",
    "callbacks = [train_acc, early_stop]\n",
    "\n",
    "\n",
    "new_net = RegularizedNet(module=MyModule, criterion=torch.nn.CrossEntropyLoss, device='cuda',\n",
    "                        optimizer=torch.optim.SGD, lr = 0.2, lambda1 = 0,  module__dropout = 0.2,\n",
    "                        optimizer__weight_decay = 0.0, max_epochs = 45, callbacks=callbacks, batch_size=256,\n",
    "                        module__input_size= 784, module__hidden_size1=128, module__hidden_size2=64, module__num_classes=10)"
   ]
  },
  {
   "cell_type": "markdown",
   "metadata": {},
   "source": [
    "#### Let's train the NN."
   ]
  },
  {
   "cell_type": "code",
   "execution_count": 89,
   "metadata": {
    "colab": {},
    "colab_type": "code",
    "id": "Gb6yTL_ulzD6"
   },
   "outputs": [
    {
     "name": "stdout",
     "output_type": "stream",
     "text": [
      "  epoch    train_acc    train_loss    valid_acc    valid_loss     dur\n",
      "-------  -----------  ------------  -----------  ------------  ------\n",
      "      1       \u001b[36m0.7355\u001b[0m        \u001b[32m0.9199\u001b[0m       \u001b[35m0.8952\u001b[0m        \u001b[31m0.3593\u001b[0m  0.6321\n",
      "      2       \u001b[36m0.8920\u001b[0m        \u001b[32m0.3687\u001b[0m       \u001b[35m0.9203\u001b[0m        \u001b[31m0.2652\u001b[0m  0.6481\n",
      "      3       \u001b[36m0.9165\u001b[0m        \u001b[32m0.2868\u001b[0m       \u001b[35m0.9334\u001b[0m        \u001b[31m0.2170\u001b[0m  0.6802\n",
      "      4       \u001b[36m0.9305\u001b[0m        \u001b[32m0.2378\u001b[0m       \u001b[35m0.9419\u001b[0m        \u001b[31m0.1878\u001b[0m  0.6561\n",
      "      5       \u001b[36m0.9399\u001b[0m        \u001b[32m0.2070\u001b[0m       \u001b[35m0.9538\u001b[0m        \u001b[31m0.1579\u001b[0m  0.6371\n",
      "      6       \u001b[36m0.9460\u001b[0m        \u001b[32m0.1831\u001b[0m       \u001b[35m0.9585\u001b[0m        \u001b[31m0.1391\u001b[0m  0.6752\n",
      "      7       \u001b[36m0.9522\u001b[0m        \u001b[32m0.1634\u001b[0m       \u001b[35m0.9610\u001b[0m        \u001b[31m0.1282\u001b[0m  0.6351\n",
      "      8       \u001b[36m0.9551\u001b[0m        \u001b[32m0.1492\u001b[0m       \u001b[35m0.9648\u001b[0m        \u001b[31m0.1192\u001b[0m  0.6792\n",
      "      9       \u001b[36m0.9595\u001b[0m        \u001b[32m0.1386\u001b[0m       0.9646        \u001b[31m0.1149\u001b[0m  0.6391\n",
      "     10       \u001b[36m0.9614\u001b[0m        \u001b[32m0.1306\u001b[0m       \u001b[35m0.9686\u001b[0m        \u001b[31m0.1033\u001b[0m  0.6371\n",
      "     11       \u001b[36m0.9629\u001b[0m        \u001b[32m0.1238\u001b[0m       0.9674        0.1059  0.6772\n",
      "     12       \u001b[36m0.9661\u001b[0m        \u001b[32m0.1142\u001b[0m       \u001b[35m0.9700\u001b[0m        \u001b[31m0.0984\u001b[0m  0.6381\n",
      "     13       \u001b[36m0.9677\u001b[0m        \u001b[32m0.1074\u001b[0m       \u001b[35m0.9727\u001b[0m        \u001b[31m0.0918\u001b[0m  0.6842\n",
      "     14       \u001b[36m0.9705\u001b[0m        \u001b[32m0.0992\u001b[0m       0.9716        \u001b[31m0.0912\u001b[0m  0.6411\n",
      "     15       \u001b[36m0.9710\u001b[0m        \u001b[32m0.0977\u001b[0m       0.9725        \u001b[31m0.0867\u001b[0m  0.6421\n",
      "     16       \u001b[36m0.9721\u001b[0m        \u001b[32m0.0930\u001b[0m       \u001b[35m0.9740\u001b[0m        \u001b[31m0.0866\u001b[0m  0.6782\n",
      "     17       \u001b[36m0.9729\u001b[0m        \u001b[32m0.0892\u001b[0m       0.9738        \u001b[31m0.0842\u001b[0m  0.6341\n",
      "     18       \u001b[36m0.9750\u001b[0m        \u001b[32m0.0854\u001b[0m       \u001b[35m0.9756\u001b[0m        \u001b[31m0.0814\u001b[0m  0.6762\n",
      "     19       \u001b[36m0.9766\u001b[0m        \u001b[32m0.0793\u001b[0m       0.9754        \u001b[31m0.0796\u001b[0m  0.6361\n",
      "     20       \u001b[36m0.9770\u001b[0m        \u001b[32m0.0767\u001b[0m       \u001b[35m0.9768\u001b[0m        \u001b[31m0.0785\u001b[0m  0.6361\n",
      "     21       \u001b[36m0.9772\u001b[0m        \u001b[32m0.0732\u001b[0m       0.9762        \u001b[31m0.0758\u001b[0m  0.6802\n",
      "     22       \u001b[36m0.9787\u001b[0m        \u001b[32m0.0694\u001b[0m       0.9764        0.0766  0.6401\n",
      "     23       \u001b[36m0.9791\u001b[0m        \u001b[32m0.0678\u001b[0m       \u001b[35m0.9769\u001b[0m        \u001b[31m0.0752\u001b[0m  0.6782\n",
      "     24       0.9786        0.0690       0.9760        0.0769  0.6371\n",
      "     25       \u001b[36m0.9797\u001b[0m        \u001b[32m0.0642\u001b[0m       \u001b[35m0.9775\u001b[0m        \u001b[31m0.0742\u001b[0m  0.6411\n",
      "     26       \u001b[36m0.9803\u001b[0m        \u001b[32m0.0634\u001b[0m       \u001b[35m0.9784\u001b[0m        \u001b[31m0.0733\u001b[0m  0.6381\n",
      "     27       \u001b[36m0.9822\u001b[0m        \u001b[32m0.0597\u001b[0m       0.9771        0.0745  0.6471\n",
      "     28       0.9821        \u001b[32m0.0581\u001b[0m       0.9782        0.0765  0.6802\n",
      "     29       0.9821        \u001b[32m0.0567\u001b[0m       0.9782        0.0735  0.6411\n",
      "     30       \u001b[36m0.9832\u001b[0m        \u001b[32m0.0546\u001b[0m       \u001b[35m0.9802\u001b[0m        \u001b[31m0.0710\u001b[0m  0.6782\n",
      "     31       0.9824        0.0549       0.9767        0.0764  0.6361\n",
      "     32       \u001b[36m0.9843\u001b[0m        \u001b[32m0.0520\u001b[0m       0.9788        0.0714  0.6331\n",
      "     33       0.9836        \u001b[32m0.0505\u001b[0m       0.9787        0.0718  0.6341\n",
      "     34       \u001b[36m0.9851\u001b[0m        \u001b[32m0.0488\u001b[0m       0.9789        0.0723  0.6331\n",
      "Stopping since valid_acc has not improved in the last 5 epochs.\n"
     ]
    }
   ],
   "source": [
    "new_net.fit(X_train, y = y_train)\n",
    "y_pred_probs = new_net.predict(test_dataset)"
   ]
  },
  {
   "cell_type": "markdown",
   "metadata": {},
   "source": [
    "#### The test accuracy is 97.95%. We will use this pre-trained model for weights initialization during GridSearchCV."
   ]
  },
  {
   "cell_type": "code",
   "execution_count": 100,
   "metadata": {},
   "outputs": [
    {
     "data": {
      "text/plain": [
       "97.95"
      ]
     },
     "execution_count": 100,
     "metadata": {},
     "output_type": "execute_result"
    }
   ],
   "source": [
    "y_pred = new_net.predict(X_test)\n",
    "accuracy_score(y_test.cpu(),  torch.tensor(y_pred))*100"
   ]
  },
  {
   "cell_type": "markdown",
   "metadata": {},
   "source": [
    "#### Save the model"
   ]
  },
  {
   "cell_type": "code",
   "execution_count": 92,
   "metadata": {},
   "outputs": [],
   "source": [
    "new_net.save_params(f_params='pre-trained-NN.pkl')"
   ]
  },
  {
   "cell_type": "markdown",
   "metadata": {},
   "source": [
    "### Now, let's make a grid search with sklearn keeping weights initialization from a pre-trained model at each fit.\n",
    "### Keep in mind that we cannot alter the number of neurons in each layer anymore because we initialize the model from a pre-trained one."
   ]
  },
  {
   "cell_type": "code",
   "execution_count": 93,
   "metadata": {},
   "outputs": [
    {
     "name": "stdout",
     "output_type": "stream",
     "text": [
      "Fitting 3 folds for each of 4 candidates, totalling 12 fits\n",
      "  epoch    train_acc    train_loss    valid_acc    valid_loss     dur\n",
      "-------  -----------  ------------  -----------  ------------  ------\n",
      "      1       \u001b[36m0.9961\u001b[0m        \u001b[32m0.0152\u001b[0m       \u001b[35m0.9971\u001b[0m        \u001b[31m0.0150\u001b[0m  0.4121\n",
      "      2       \u001b[36m0.9965\u001b[0m        \u001b[32m0.0141\u001b[0m       \u001b[35m0.9975\u001b[0m        \u001b[31m0.0148\u001b[0m  0.4521\n",
      "      3       \u001b[36m0.9967\u001b[0m        \u001b[32m0.0135\u001b[0m       0.9975        \u001b[31m0.0146\u001b[0m  0.4121\n",
      "      4       \u001b[36m0.9968\u001b[0m        \u001b[32m0.0130\u001b[0m       0.9975        \u001b[31m0.0145\u001b[0m  0.4191\n",
      "      5       \u001b[36m0.9970\u001b[0m        \u001b[32m0.0127\u001b[0m       0.9975        \u001b[31m0.0144\u001b[0m  0.4091\n",
      "      6       \u001b[36m0.9972\u001b[0m        \u001b[32m0.0124\u001b[0m       \u001b[35m0.9976\u001b[0m        \u001b[31m0.0143\u001b[0m  0.4521\n",
      "      7       \u001b[36m0.9974\u001b[0m        \u001b[32m0.0121\u001b[0m       0.9976        \u001b[31m0.0142\u001b[0m  0.4111\n",
      "      8       \u001b[36m0.9975\u001b[0m        \u001b[32m0.0119\u001b[0m       0.9975        \u001b[31m0.0141\u001b[0m  0.4121\n",
      "      9       \u001b[36m0.9977\u001b[0m        \u001b[32m0.0117\u001b[0m       0.9975        \u001b[31m0.0141\u001b[0m  0.4111\n",
      "     10       \u001b[36m0.9978\u001b[0m        \u001b[32m0.0115\u001b[0m       0.9975        \u001b[31m0.0141\u001b[0m  0.4591\n",
      "Stopping since valid_acc has not improved in the last 5 epochs.\n",
      "[CV 1/3] END ...........................lambda1=0.0, lr=0.01; total time=   4.9s\n",
      "  epoch    train_acc    train_loss    valid_acc    valid_loss     dur\n",
      "-------  -----------  ------------  -----------  ------------  ------\n",
      "      1       \u001b[36m0.9944\u001b[0m        \u001b[32m0.0228\u001b[0m       \u001b[35m0.9790\u001b[0m        \u001b[31m0.0679\u001b[0m  0.4111\n",
      "      2       \u001b[36m0.9947\u001b[0m        \u001b[32m0.0215\u001b[0m       \u001b[35m0.9792\u001b[0m        \u001b[31m0.0674\u001b[0m  0.4511\n",
      "      3       \u001b[36m0.9950\u001b[0m        \u001b[32m0.0207\u001b[0m       0.9792        \u001b[31m0.0673\u001b[0m  0.4101\n",
      "      4       \u001b[36m0.9952\u001b[0m        \u001b[32m0.0202\u001b[0m       0.9789        \u001b[31m0.0672\u001b[0m  0.4121\n",
      "      5       \u001b[36m0.9953\u001b[0m        \u001b[32m0.0197\u001b[0m       0.9792        \u001b[31m0.0672\u001b[0m  0.4121\n",
      "      6       \u001b[36m0.9956\u001b[0m        \u001b[32m0.0193\u001b[0m       0.9792        0.0672  0.4521\n",
      "Stopping since valid_acc has not improved in the last 5 epochs.\n",
      "[CV 2/3] END ...........................lambda1=0.0, lr=0.01; total time=   3.2s\n",
      "  epoch    train_acc    train_loss    valid_acc    valid_loss     dur\n",
      "-------  -----------  ------------  -----------  ------------  ------\n",
      "      1       \u001b[36m0.9939\u001b[0m        \u001b[32m0.0238\u001b[0m       \u001b[35m0.9792\u001b[0m        \u001b[31m0.0681\u001b[0m  0.4140\n",
      "      2       \u001b[36m0.9943\u001b[0m        \u001b[32m0.0225\u001b[0m       0.9791        \u001b[31m0.0676\u001b[0m  0.4511\n",
      "      3       \u001b[36m0.9948\u001b[0m        \u001b[32m0.0217\u001b[0m       0.9791        \u001b[31m0.0674\u001b[0m  0.4111\n",
      "      4       \u001b[36m0.9949\u001b[0m        \u001b[32m0.0210\u001b[0m       0.9788        \u001b[31m0.0673\u001b[0m  0.4121\n",
      "      5       0.9949        \u001b[32m0.0205\u001b[0m       0.9788        \u001b[31m0.0672\u001b[0m  0.4121\n",
      "Stopping since valid_acc has not improved in the last 5 epochs.\n",
      "[CV 3/3] END ...........................lambda1=0.0, lr=0.01; total time=   2.8s\n",
      "  epoch    train_acc    train_loss    valid_acc    valid_loss     dur\n",
      "-------  -----------  ------------  -----------  ------------  ------\n",
      "      1       \u001b[36m0.9965\u001b[0m        \u001b[32m0.0143\u001b[0m       \u001b[35m0.9975\u001b[0m        \u001b[31m0.0146\u001b[0m  0.4241\n",
      "      2       \u001b[36m0.9972\u001b[0m        \u001b[32m0.0124\u001b[0m       0.9974        \u001b[31m0.0143\u001b[0m  0.4131\n",
      "      3       \u001b[36m0.9977\u001b[0m        \u001b[32m0.0115\u001b[0m       0.9971        \u001b[31m0.0142\u001b[0m  0.4561\n",
      "      4       \u001b[36m0.9979\u001b[0m        \u001b[32m0.0108\u001b[0m       0.9971        \u001b[31m0.0141\u001b[0m  0.4131\n",
      "      5       \u001b[36m0.9982\u001b[0m        \u001b[32m0.0102\u001b[0m       0.9970        \u001b[31m0.0140\u001b[0m  0.4241\n",
      "Stopping since valid_acc has not improved in the last 5 epochs.\n",
      "[CV 1/3] END ...........................lambda1=0.0, lr=0.05; total time=   2.7s\n",
      "  epoch    train_acc    train_loss    valid_acc    valid_loss     dur\n",
      "-------  -----------  ------------  -----------  ------------  ------\n",
      "      1       \u001b[36m0.9944\u001b[0m        \u001b[32m0.0220\u001b[0m       \u001b[35m0.9792\u001b[0m        \u001b[31m0.0674\u001b[0m  0.4681\n",
      "      2       \u001b[36m0.9954\u001b[0m        \u001b[32m0.0195\u001b[0m       \u001b[35m0.9795\u001b[0m        0.0674  0.4121\n",
      "      3       \u001b[36m0.9960\u001b[0m        \u001b[32m0.0181\u001b[0m       0.9794        0.0674  0.4131\n",
      "      4       \u001b[36m0.9963\u001b[0m        \u001b[32m0.0169\u001b[0m       \u001b[35m0.9796\u001b[0m        0.0674  0.4531\n",
      "      5       \u001b[36m0.9966\u001b[0m        \u001b[32m0.0159\u001b[0m       0.9796        0.0675  0.4131\n",
      "      6       \u001b[36m0.9968\u001b[0m        \u001b[32m0.0150\u001b[0m       \u001b[35m0.9798\u001b[0m        0.0675  0.4141\n",
      "      7       \u001b[36m0.9970\u001b[0m        \u001b[32m0.0142\u001b[0m       \u001b[35m0.9800\u001b[0m        0.0676  0.4141\n",
      "      8       \u001b[36m0.9973\u001b[0m        \u001b[32m0.0135\u001b[0m       \u001b[35m0.9801\u001b[0m        0.0678  0.4561\n",
      "      9       \u001b[36m0.9974\u001b[0m        \u001b[32m0.0128\u001b[0m       0.9800        0.0679  0.4111\n",
      "     10       \u001b[36m0.9975\u001b[0m        \u001b[32m0.0122\u001b[0m       0.9798        0.0679  0.4191\n",
      "     11       \u001b[36m0.9977\u001b[0m        \u001b[32m0.0116\u001b[0m       0.9799        0.0680  0.4131\n",
      "     12       \u001b[36m0.9979\u001b[0m        \u001b[32m0.0111\u001b[0m       0.9796        0.0680  0.4531\n",
      "Stopping since valid_acc has not improved in the last 5 epochs.\n",
      "[CV 2/3] END ...........................lambda1=0.0, lr=0.05; total time=   5.9s\n",
      "  epoch    train_acc    train_loss    valid_acc    valid_loss     dur\n",
      "-------  -----------  ------------  -----------  ------------  ------\n",
      "      1       \u001b[36m0.9941\u001b[0m        \u001b[32m0.0230\u001b[0m       \u001b[35m0.9790\u001b[0m        \u001b[31m0.0674\u001b[0m  0.4141\n",
      "      2       \u001b[36m0.9950\u001b[0m        \u001b[32m0.0202\u001b[0m       \u001b[35m0.9791\u001b[0m        \u001b[31m0.0673\u001b[0m  0.4541\n",
      "      3       \u001b[36m0.9957\u001b[0m        \u001b[32m0.0186\u001b[0m       \u001b[35m0.9795\u001b[0m        \u001b[31m0.0672\u001b[0m  0.4121\n",
      "      4       \u001b[36m0.9960\u001b[0m        \u001b[32m0.0174\u001b[0m       0.9792        \u001b[31m0.0670\u001b[0m  0.4191\n",
      "      5       \u001b[36m0.9961\u001b[0m        \u001b[32m0.0164\u001b[0m       0.9794        \u001b[31m0.0670\u001b[0m  0.4131\n",
      "      6       \u001b[36m0.9964\u001b[0m        \u001b[32m0.0154\u001b[0m       0.9795        \u001b[31m0.0669\u001b[0m  0.4531\n",
      "      7       \u001b[36m0.9968\u001b[0m        \u001b[32m0.0146\u001b[0m       \u001b[35m0.9798\u001b[0m        \u001b[31m0.0669\u001b[0m  0.4131\n",
      "      8       \u001b[36m0.9971\u001b[0m        \u001b[32m0.0138\u001b[0m       \u001b[35m0.9799\u001b[0m        0.0669  0.4161\n",
      "      9       \u001b[36m0.9972\u001b[0m        \u001b[32m0.0131\u001b[0m       \u001b[35m0.9805\u001b[0m        0.0670  0.4131\n",
      "     10       \u001b[36m0.9975\u001b[0m        \u001b[32m0.0125\u001b[0m       \u001b[35m0.9806\u001b[0m        0.0670  0.4531\n",
      "     11       \u001b[36m0.9978\u001b[0m        \u001b[32m0.0119\u001b[0m       0.9806        0.0671  0.4171\n",
      "     12       \u001b[36m0.9980\u001b[0m        \u001b[32m0.0114\u001b[0m       \u001b[35m0.9808\u001b[0m        0.0672  0.4141\n",
      "     13       \u001b[36m0.9982\u001b[0m        \u001b[32m0.0109\u001b[0m       0.9808        0.0671  0.4571\n",
      "     14       \u001b[36m0.9983\u001b[0m        \u001b[32m0.0104\u001b[0m       0.9808        0.0672  0.4131\n",
      "     15       \u001b[36m0.9985\u001b[0m        \u001b[32m0.0100\u001b[0m       0.9805        0.0673  0.4171\n",
      "     16       \u001b[36m0.9986\u001b[0m        \u001b[32m0.0096\u001b[0m       0.9805        0.0674  0.4111\n",
      "Stopping since valid_acc has not improved in the last 5 epochs.\n",
      "[CV 3/3] END ...........................lambda1=0.0, lr=0.05; total time=   7.6s\n",
      "  epoch    train_acc    train_loss    valid_acc    valid_loss     dur\n",
      "-------  -----------  ------------  -----------  ------------  ------\n",
      "      1       \u001b[36m0.9961\u001b[0m        \u001b[32m0.4285\u001b[0m       \u001b[35m0.9971\u001b[0m        \u001b[31m0.4277\u001b[0m  0.4161\n",
      "      2       \u001b[36m0.9964\u001b[0m        \u001b[32m0.4261\u001b[0m       \u001b[35m0.9975\u001b[0m        \u001b[31m0.4261\u001b[0m  0.4141\n",
      "      3       \u001b[36m0.9967\u001b[0m        \u001b[32m0.4242\u001b[0m       0.9975        \u001b[31m0.4247\u001b[0m  0.4581\n",
      "      4       \u001b[36m0.9969\u001b[0m        \u001b[32m0.4225\u001b[0m       0.9975        \u001b[31m0.4233\u001b[0m  0.4131\n",
      "      5       \u001b[36m0.9970\u001b[0m        \u001b[32m0.4209\u001b[0m       0.9975        \u001b[31m0.4219\u001b[0m  0.4111\n",
      "      6       \u001b[36m0.9973\u001b[0m        \u001b[32m0.4193\u001b[0m       0.9975        \u001b[31m0.4206\u001b[0m  0.4131\n",
      "Stopping since valid_acc has not improved in the last 5 epochs.\n",
      "[CV 1/3] END ........................lambda1=0.0001, lr=0.01; total time=   3.2s\n",
      "  epoch    train_acc    train_loss    valid_acc    valid_loss     dur\n",
      "-------  -----------  ------------  -----------  ------------  ------\n",
      "      1       \u001b[36m0.9944\u001b[0m        \u001b[32m0.4361\u001b[0m       \u001b[35m0.9790\u001b[0m        \u001b[31m0.4804\u001b[0m  0.4161\n",
      "      2       \u001b[36m0.9947\u001b[0m        \u001b[32m0.4334\u001b[0m       \u001b[35m0.9792\u001b[0m        \u001b[31m0.4785\u001b[0m  0.4131\n"
     ]
    },
    {
     "name": "stdout",
     "output_type": "stream",
     "text": [
      "      3       \u001b[36m0.9950\u001b[0m        \u001b[32m0.4314\u001b[0m       0.9791        \u001b[31m0.4770\u001b[0m  0.4551\n",
      "      4       \u001b[36m0.9952\u001b[0m        \u001b[32m0.4295\u001b[0m       0.9789        \u001b[31m0.4756\u001b[0m  0.4151\n",
      "      5       \u001b[36m0.9954\u001b[0m        \u001b[32m0.4278\u001b[0m       0.9792        \u001b[31m0.4742\u001b[0m  0.4121\n",
      "      6       \u001b[36m0.9956\u001b[0m        \u001b[32m0.4261\u001b[0m       0.9791        \u001b[31m0.4728\u001b[0m  0.4131\n",
      "Stopping since valid_acc has not improved in the last 5 epochs.\n",
      "[CV 2/3] END ........................lambda1=0.0001, lr=0.01; total time=   3.2s\n",
      "  epoch    train_acc    train_loss    valid_acc    valid_loss     dur\n",
      "-------  -----------  ------------  -----------  ------------  ------\n",
      "      1       \u001b[36m0.9940\u001b[0m        \u001b[32m0.4371\u001b[0m       \u001b[35m0.9792\u001b[0m        \u001b[31m0.4806\u001b[0m  0.4261\n",
      "      2       \u001b[36m0.9943\u001b[0m        \u001b[32m0.4345\u001b[0m       0.9792        \u001b[31m0.4787\u001b[0m  0.4161\n",
      "      3       \u001b[36m0.9947\u001b[0m        \u001b[32m0.4323\u001b[0m       0.9791        \u001b[31m0.4771\u001b[0m  0.4601\n",
      "      4       \u001b[36m0.9949\u001b[0m        \u001b[32m0.4304\u001b[0m       0.9789        \u001b[31m0.4757\u001b[0m  0.4131\n",
      "      5       0.9948        \u001b[32m0.4286\u001b[0m       0.9788        \u001b[31m0.4742\u001b[0m  0.4121\n",
      "Stopping since valid_acc has not improved in the last 5 epochs.\n",
      "[CV 3/3] END ........................lambda1=0.0001, lr=0.01; total time=   2.7s\n",
      "  epoch    train_acc    train_loss    valid_acc    valid_loss     dur\n",
      "-------  -----------  ------------  -----------  ------------  ------\n",
      "      1       \u001b[36m0.9965\u001b[0m        \u001b[32m0.4250\u001b[0m       \u001b[35m0.9975\u001b[0m        \u001b[31m0.4222\u001b[0m  0.4591\n",
      "      2       \u001b[36m0.9972\u001b[0m        \u001b[32m0.4169\u001b[0m       0.9972        \u001b[31m0.4156\u001b[0m  0.4141\n",
      "      3       \u001b[36m0.9976\u001b[0m        \u001b[32m0.4098\u001b[0m       0.9971        \u001b[31m0.4093\u001b[0m  0.4141\n",
      "      4       \u001b[36m0.9978\u001b[0m        \u001b[32m0.4030\u001b[0m       0.9970        \u001b[31m0.4032\u001b[0m  0.4111\n",
      "      5       \u001b[36m0.9982\u001b[0m        \u001b[32m0.3965\u001b[0m       0.9970        \u001b[31m0.3972\u001b[0m  0.4621\n",
      "Stopping since valid_acc has not improved in the last 5 epochs.\n",
      "[CV 1/3] END ........................lambda1=0.0001, lr=0.05; total time=   2.8s\n",
      "  epoch    train_acc    train_loss    valid_acc    valid_loss     dur\n",
      "-------  -----------  ------------  -----------  ------------  ------\n",
      "      1       \u001b[36m0.9944\u001b[0m        \u001b[32m0.4327\u001b[0m       \u001b[35m0.9791\u001b[0m        \u001b[31m0.4744\u001b[0m  0.4151\n",
      "      2       \u001b[36m0.9954\u001b[0m        \u001b[32m0.4239\u001b[0m       \u001b[35m0.9795\u001b[0m        \u001b[31m0.4677\u001b[0m  0.4531\n",
      "      3       \u001b[36m0.9959\u001b[0m        \u001b[32m0.4161\u001b[0m       \u001b[35m0.9796\u001b[0m        \u001b[31m0.4611\u001b[0m  0.4131\n",
      "      4       \u001b[36m0.9962\u001b[0m        \u001b[32m0.4088\u001b[0m       \u001b[35m0.9798\u001b[0m        \u001b[31m0.4546\u001b[0m  0.4131\n",
      "      5       \u001b[36m0.9964\u001b[0m        \u001b[32m0.4019\u001b[0m       \u001b[35m0.9799\u001b[0m        \u001b[31m0.4483\u001b[0m  0.4131\n",
      "      6       \u001b[36m0.9965\u001b[0m        \u001b[32m0.3951\u001b[0m       \u001b[35m0.9802\u001b[0m        \u001b[31m0.4420\u001b[0m  0.4511\n",
      "      7       \u001b[36m0.9967\u001b[0m        \u001b[32m0.3885\u001b[0m       \u001b[35m0.9805\u001b[0m        \u001b[31m0.4358\u001b[0m  0.4131\n",
      "      8       \u001b[36m0.9968\u001b[0m        \u001b[32m0.3821\u001b[0m       0.9804        \u001b[31m0.4297\u001b[0m  0.4191\n",
      "      9       \u001b[36m0.9970\u001b[0m        \u001b[32m0.3759\u001b[0m       0.9802        \u001b[31m0.4237\u001b[0m  0.4551\n",
      "     10       \u001b[36m0.9971\u001b[0m        \u001b[32m0.3698\u001b[0m       0.9805        \u001b[31m0.4179\u001b[0m  0.4111\n",
      "     11       \u001b[36m0.9972\u001b[0m        \u001b[32m0.3639\u001b[0m       0.9804        \u001b[31m0.4121\u001b[0m  0.4141\n",
      "Stopping since valid_acc has not improved in the last 5 epochs.\n",
      "[CV 2/3] END ........................lambda1=0.0001, lr=0.05; total time=   5.3s\n",
      "  epoch    train_acc    train_loss    valid_acc    valid_loss     dur\n",
      "-------  -----------  ------------  -----------  ------------  ------\n",
      "      1       \u001b[36m0.9941\u001b[0m        \u001b[32m0.4337\u001b[0m       \u001b[35m0.9789\u001b[0m        \u001b[31m0.4745\u001b[0m  0.4611\n",
      "      2       \u001b[36m0.9949\u001b[0m        \u001b[32m0.4246\u001b[0m       \u001b[35m0.9791\u001b[0m        \u001b[31m0.4676\u001b[0m  0.4141\n",
      "      3       \u001b[36m0.9956\u001b[0m        \u001b[32m0.4167\u001b[0m       \u001b[35m0.9796\u001b[0m        \u001b[31m0.4608\u001b[0m  0.4111\n",
      "      4       \u001b[36m0.9959\u001b[0m        \u001b[32m0.4094\u001b[0m       0.9794        \u001b[31m0.4542\u001b[0m  0.4531\n",
      "      5       \u001b[36m0.9960\u001b[0m        \u001b[32m0.4024\u001b[0m       0.9792        \u001b[31m0.4477\u001b[0m  0.4161\n",
      "      6       \u001b[36m0.9962\u001b[0m        \u001b[32m0.3956\u001b[0m       0.9792        \u001b[31m0.4414\u001b[0m  0.4111\n",
      "      7       \u001b[36m0.9964\u001b[0m        \u001b[32m0.3890\u001b[0m       \u001b[35m0.9799\u001b[0m        \u001b[31m0.4352\u001b[0m  0.4171\n",
      "      8       \u001b[36m0.9966\u001b[0m        \u001b[32m0.3826\u001b[0m       \u001b[35m0.9800\u001b[0m        \u001b[31m0.4291\u001b[0m  0.4581\n",
      "      9       \u001b[36m0.9968\u001b[0m        \u001b[32m0.3764\u001b[0m       \u001b[35m0.9805\u001b[0m        \u001b[31m0.4232\u001b[0m  0.4121\n",
      "     10       \u001b[36m0.9969\u001b[0m        \u001b[32m0.3703\u001b[0m       0.9804        \u001b[31m0.4173\u001b[0m  0.4121\n",
      "     11       \u001b[36m0.9971\u001b[0m        \u001b[32m0.3643\u001b[0m       0.9805        \u001b[31m0.4115\u001b[0m  0.4131\n",
      "     12       \u001b[36m0.9974\u001b[0m        \u001b[32m0.3585\u001b[0m       \u001b[35m0.9810\u001b[0m        \u001b[31m0.4059\u001b[0m  0.4521\n",
      "     13       \u001b[36m0.9975\u001b[0m        \u001b[32m0.3529\u001b[0m       0.9809        \u001b[31m0.4003\u001b[0m  0.4111\n",
      "     14       \u001b[36m0.9977\u001b[0m        \u001b[32m0.3474\u001b[0m       0.9809        \u001b[31m0.3949\u001b[0m  0.4141\n",
      "     15       \u001b[36m0.9979\u001b[0m        \u001b[32m0.3419\u001b[0m       0.9809        \u001b[31m0.3896\u001b[0m  0.4101\n",
      "     16       \u001b[36m0.9980\u001b[0m        \u001b[32m0.3367\u001b[0m       0.9809        \u001b[31m0.3843\u001b[0m  0.4511\n",
      "Stopping since valid_acc has not improved in the last 5 epochs.\n",
      "[CV 3/3] END ........................lambda1=0.0001, lr=0.05; total time=   7.6s\n",
      "  epoch    train_acc    train_loss    valid_acc    valid_loss     dur\n",
      "-------  -----------  ------------  -----------  ------------  ------\n",
      "      1       \u001b[36m0.9962\u001b[0m        \u001b[32m0.0157\u001b[0m       \u001b[35m0.9796\u001b[0m        \u001b[31m0.0690\u001b[0m  0.6672\n",
      "      2       \u001b[36m0.9966\u001b[0m        \u001b[32m0.0145\u001b[0m       \u001b[35m0.9797\u001b[0m        \u001b[31m0.0687\u001b[0m  0.6231\n",
      "      3       \u001b[36m0.9968\u001b[0m        \u001b[32m0.0139\u001b[0m       \u001b[35m0.9798\u001b[0m        \u001b[31m0.0686\u001b[0m  0.6241\n",
      "      4       \u001b[36m0.9969\u001b[0m        \u001b[32m0.0134\u001b[0m       \u001b[35m0.9800\u001b[0m        \u001b[31m0.0685\u001b[0m  0.6601\n",
      "      5       \u001b[36m0.9971\u001b[0m        \u001b[32m0.0131\u001b[0m       \u001b[35m0.9802\u001b[0m        \u001b[31m0.0685\u001b[0m  0.6241\n",
      "      6       \u001b[36m0.9973\u001b[0m        \u001b[32m0.0128\u001b[0m       0.9800        \u001b[31m0.0685\u001b[0m  0.6641\n",
      "      7       \u001b[36m0.9974\u001b[0m        \u001b[32m0.0126\u001b[0m       0.9801        0.0685  0.6301\n",
      "      8       \u001b[36m0.9975\u001b[0m        \u001b[32m0.0123\u001b[0m       0.9799        0.0685  0.6251\n",
      "      9       \u001b[36m0.9976\u001b[0m        \u001b[32m0.0121\u001b[0m       0.9800        0.0685  0.6641\n",
      "Stopping since valid_acc has not improved in the last 5 epochs.\n",
      "0.9932833333333333 {'lambda1': 0.0, 'lr': 0.01}\n"
     ]
    }
   ],
   "source": [
    "new_net_gs = RegularizedNet(module=MyModule, criterion=torch.nn.CrossEntropyLoss, device='cuda',\n",
    "                        optimizer= torch.optim.SGD, lr = 0.2, lambda1 = 0.0,  module__dropout = 0.0,\n",
    "                        optimizer__weight_decay = 0, max_epochs = 45,callbacks=callbacks, batch_size=256,\n",
    "                        module__input_size= 784, module__hidden_size1=128, module__hidden_size2=64, module__num_classes=10,\n",
    "                        reinit_from_pretrain=True, pretrained_nn='pre-trained-NN.pkl')\n",
    "\n",
    "\n",
    "grid = {\n",
    "    'lambda1': [ 0.0, 0.0001],\n",
    "    'lr': [0.01, 0.05],\n",
    "    }\n",
    "\n",
    "\n",
    "gs = GridSearchCV(new_net_gs, grid, refit=True, cv=3, verbose=3)\n",
    "\n",
    "gs.fit(X_train, y_train)\n",
    "\n",
    "#Report Best Parameters\n",
    "print(gs.best_score_, gs.best_params_)"
   ]
  },
  {
   "cell_type": "markdown",
   "metadata": {},
   "source": [
    "### Final test accuracy."
   ]
  },
  {
   "cell_type": "code",
   "execution_count": 99,
   "metadata": {},
   "outputs": [
    {
     "data": {
      "text/plain": [
       "98.03"
      ]
     },
     "execution_count": 99,
     "metadata": {},
     "output_type": "execute_result"
    }
   ],
   "source": [
    "y_pred = gs.best_estimator_.predict(X_test)\n",
    "accuracy_score(y_test.cpu(),  torch.tensor(y_pred))*100"
   ]
  },
  {
   "cell_type": "code",
   "execution_count": 82,
   "metadata": {},
   "outputs": [],
   "source": [
    "#gs.cv_results_"
   ]
  },
  {
   "cell_type": "code",
   "execution_count": null,
   "metadata": {},
   "outputs": [],
   "source": []
  }
 ],
 "metadata": {
  "colab": {
   "name": "HW4.ipynb",
   "provenance": []
  },
  "kernelspec": {
   "display_name": "Python 3",
   "language": "python",
   "name": "python3"
  },
  "language_info": {
   "codemirror_mode": {
    "name": "ipython",
    "version": 3
   },
   "file_extension": ".py",
   "mimetype": "text/x-python",
   "name": "python",
   "nbconvert_exporter": "python",
   "pygments_lexer": "ipython3",
   "version": "3.8.8"
  }
 },
 "nbformat": 4,
 "nbformat_minor": 1
}
